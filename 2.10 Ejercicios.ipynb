{
 "cells": [
  {
   "cell_type": "markdown",
   "metadata": {},
   "source": [
    "<font color=Green>\n",
    "\n",
    "# **2.10 Ejercicios**\n",
    "    \n",
    "</font>\n",
    "\n",
    "###   1) Define una variable edad y asígnale un valor entero. \n",
    "+ Muestra su valor por pantalla.\n",
    "+ Define otra variable edad_cadena que contenga el valor de edad como una cadena de caracteres. \n",
    "+ Comprueba el tipo de la nueva variable.\n",
    "+ Utiliza la variable edad que has definido previamente y calcula la edad que tendría esa persona en el año 2035.\n"
   ]
  },
  {
   "cell_type": "code",
   "execution_count": 1,
   "metadata": {},
   "outputs": [
    {
     "name": "stdout",
     "output_type": "stream",
     "text": [
      "26\n"
     ]
    }
   ],
   "source": [
    "edad = 26\n",
    "print(edad)"
   ]
  },
  {
   "cell_type": "code",
   "execution_count": 2,
   "metadata": {},
   "outputs": [
    {
     "data": {
      "text/plain": [
       "'26'"
      ]
     },
     "execution_count": 2,
     "metadata": {},
     "output_type": "execute_result"
    }
   ],
   "source": [
    "edad_cadena = str(edad)\n",
    "edad_cadena"
   ]
  },
  {
   "cell_type": "code",
   "execution_count": 3,
   "metadata": {},
   "outputs": [
    {
     "name": "stdout",
     "output_type": "stream",
     "text": [
      "<class 'str'>\n"
     ]
    }
   ],
   "source": [
    "print(type(edad_cadena))"
   ]
  },
  {
   "cell_type": "code",
   "execution_count": 4,
   "metadata": {},
   "outputs": [
    {
     "name": "stdout",
     "output_type": "stream",
     "text": [
      "41\n"
     ]
    }
   ],
   "source": [
    "edad_2035 = (2035 - 2020) + edad\n",
    "print(edad_2035)"
   ]
  },
  {
   "cell_type": "markdown",
   "metadata": {},
   "source": [
    "### 2) Al realizar una consulta en un registro hemos recibido unos valores corruptos. Al parecer entrega el nombre y apellido del alumno al revés. ¿Qué puede hacer para obtener el siguiente mensaje por pantalla\n",
    "> _NOMBRE APELLIDO ha sacado un NOTA_"
   ]
  },
  {
   "cell_type": "code",
   "execution_count": 5,
   "metadata": {},
   "outputs": [],
   "source": [
    "cadena = \"azebaC ellehciM , 01\""
   ]
  },
  {
   "cell_type": "code",
   "execution_count": 6,
   "metadata": {},
   "outputs": [
    {
     "data": {
      "text/plain": [
       "'10 , Michelle Cabeza'"
      ]
     },
     "execution_count": 6,
     "metadata": {},
     "output_type": "execute_result"
    }
   ],
   "source": [
    "cadena_volteada = cadena[::-1]\n",
    "cadena_volteada"
   ]
  },
  {
   "cell_type": "code",
   "execution_count": 7,
   "metadata": {},
   "outputs": [
    {
     "name": "stdout",
     "output_type": "stream",
     "text": [
      "Michelle Cabeza ha sacado un  10\n"
     ]
    }
   ],
   "source": [
    "print(cadena_volteada[5::], \"ha sacado un \", cadena_volteada[:2])"
   ]
  },
  {
   "cell_type": "markdown",
   "metadata": {},
   "source": [
    "### 3) Utilizando operadores lógicos determina si una cadena de texto introducida por el usuario tiene una longitud mayor o igual a 3 y menor o igual a 12 (Basta con mostrar _True o False_ )"
   ]
  },
  {
   "cell_type": "code",
   "execution_count": 8,
   "metadata": {
    "scrolled": true
   },
   "outputs": [
    {
     "name": "stdout",
     "output_type": "stream",
     "text": [
      "Escribe un texto: hola\n",
      "¿La longitud de su texto es mayor o igual que 3 pero menor o igual que 12? \n",
      " True\n"
     ]
    }
   ],
   "source": [
    "cadena = input('Escribe un texto: ')\n",
    "\n",
    "print('¿La longitud de su texto es mayor o igual que 3 pero menor o igual que 12? \\n', len(cadena) >= 3 and len(cadena) <= 12)"
   ]
  },
  {
   "cell_type": "markdown",
   "metadata": {},
   "source": [
    "### 4) Realiza un programa que lea 2 números por teclado y determine los siguientes aspectos (es suficiene con mostrar True o False):\n",
    "+ Si los dos números son iguales\n",
    "+ Si los dos números son diferentes\n",
    "+ Si el primero es mayor que el segundo\n",
    "+ Si el segundo es mayor o igual que el primero"
   ]
  },
  {
   "cell_type": "code",
   "execution_count": 9,
   "metadata": {},
   "outputs": [
    {
     "name": "stdout",
     "output_type": "stream",
     "text": [
      "Ingresa el primer número: 10\n",
      "Ingresa el segundo número: 5\n",
      "¿Los números son iguales? RESPUESTA: False\n",
      "¿Los números son diferentes? RESPUESTA: True\n",
      "¿El primero es mayor que el segundo? RESPUESTA: True\n",
      "¿El segundo es mayor o igual que el primero? RESPUESTA: False\n"
     ]
    }
   ],
   "source": [
    "n1 = float( input(\"Ingresa el primer número: \") )\n",
    "n2 = float( input(\"Ingresa el segundo número: \") )\n",
    "\n",
    "print(\"¿Los números son iguales? RESPUESTA:\", n1 == n2)\n",
    "print(\"¿Los números son diferentes? RESPUESTA:\", n1 != n2)\n",
    "print(\"¿El primero es mayor que el segundo? RESPUESTA:\", n1 > n2)\n",
    "print(\"¿El segundo es mayor o igual que el primero? RESPUESTA:\", n1 <= n2)"
   ]
  },
  {
   "cell_type": "code",
   "execution_count": null,
   "metadata": {},
   "outputs": [],
   "source": []
  }
 ],
 "metadata": {
  "kernelspec": {
   "display_name": "Python 3 (ipykernel)",
   "language": "python",
   "name": "python3"
  },
  "language_info": {
   "codemirror_mode": {
    "name": "ipython",
    "version": 3
   },
   "file_extension": ".py",
   "mimetype": "text/x-python",
   "name": "python",
   "nbconvert_exporter": "python",
   "pygments_lexer": "ipython3",
   "version": "3.9.7"
  }
 },
 "nbformat": 4,
 "nbformat_minor": 4
}
