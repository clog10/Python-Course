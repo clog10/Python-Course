{
 "cells": [
  {
   "cell_type": "markdown",
   "metadata": {},
   "source": [
    "<font color=Green>\n",
    "    \n",
    "# **8.1 Herencia simple**\n",
    "\n",
    "</font>"
   ]
  },
  {
   "cell_type": "code",
   "execution_count": 1,
   "metadata": {},
   "outputs": [
    {
     "name": "stdout",
     "output_type": "stream",
     "text": [
      "<__main__.Producto object at 0x0000020F5F853850>\n",
      "Harina de maíz (1Kg), Carne de res (2Kg), Detergente para ropa (500g)\n"
     ]
    }
   ],
   "source": [
    "class Producto:\n",
    "    def __init__(self, ref, nombre, pvp,  descripcion, \n",
    "                 marca=None, categoria=None, talla=None):\n",
    "        self.ref = ref\n",
    "        self.nombre = nombre\n",
    "        self.pvp = pvp\n",
    "        self.descripcion = descripcion\n",
    "        self.marca= marca\n",
    "        self.categoria= categoria\n",
    "        self.talla= talla\n",
    "        \n",
    "combo_1 = Producto('70010','Combo 1',150,'Harina de maíz (1Kg), Carne de res (2Kg), Detergente para ropa (500g)') \n",
    "\n",
    "print(combo_1)\n",
    "print(combo_1.descripcion)  "
   ]
  },
  {
   "cell_type": "markdown",
   "metadata": {},
   "source": [
    "<font color=#003d5c>\n",
    "\n",
    "## _Superclases y subclases_\n",
    "</font>   "
   ]
  },
  {
   "cell_type": "markdown",
   "metadata": {},
   "source": [
    "### Debemos identificar una superclase que contendrá todos los atributos comunes\n",
    "### A la superclase la llamaremos Producto"
   ]
  },
  {
   "cell_type": "code",
   "execution_count": 2,
   "metadata": {},
   "outputs": [],
   "source": [
    "class Producto:\n",
    "    def __init__(self, ref, nombre, pvp,  descripcion):\n",
    "        self.ref = ref\n",
    "        self.nombre = nombre\n",
    "        self.pvp = pvp\n",
    "        self.descripcion = descripcion\n",
    "                \n",
    "    def __str__(self):\n",
    "        return f\"Referencia:\\t {self.ref}\\n\" \\\n",
    "               f\"Nombre:\\t\\t {self.nombre}\\n\" \\\n",
    "               f\"PVP:\\t\\t {self.pvp}\\n\" \\\n",
    "               f\"Descripción:\\t {self.descripcion}\\n\"\n"
   ]
  },
  {
   "cell_type": "markdown",
   "metadata": {},
   "source": [
    "### A partir del tipo de producto, vamos a definir subclases: _Combo, Ropa, Alimentos_"
   ]
  },
  {
   "cell_type": "code",
   "execution_count": 3,
   "metadata": {},
   "outputs": [],
   "source": [
    "class Combo(Producto):\n",
    "    pass"
   ]
  },
  {
   "cell_type": "code",
   "execution_count": 4,
   "metadata": {},
   "outputs": [],
   "source": [
    "c_1 = Combo('70010','Combo 1',150,'Harina de maíz (1Kg), Carne de res (2Kg), Detergente para ropa (500g)')"
   ]
  },
  {
   "cell_type": "code",
   "execution_count": 5,
   "metadata": {
    "scrolled": true
   },
   "outputs": [
    {
     "name": "stdout",
     "output_type": "stream",
     "text": [
      "Referencia:\t 70010\n",
      "Nombre:\t\t Combo 1\n",
      "PVP:\t\t 150\n",
      "Descripción:\t Harina de maíz (1Kg), Carne de res (2Kg), Detergente para ropa (500g)\n",
      "\n"
     ]
    }
   ],
   "source": [
    "print(c_1)"
   ]
  },
  {
   "cell_type": "code",
   "execution_count": 6,
   "metadata": {},
   "outputs": [],
   "source": [
    "class Alimento(Producto):\n",
    "    marca = \"\"\n",
    "    categoria = \"\"\n",
    "\n",
    "    def __str__(self):\n",
    "            return f\"Referencia:\\t {self.ref}\\n\" \\\n",
    "                   f\"Nombre:\\t\\t {self.nombre}\\n\" \\\n",
    "                   f\"PVP:\\t\\t {self.pvp}\\n\" \\\n",
    "                   f\"Descripción:\\t {self.descripcion}\\n\" \\\n",
    "                   f\"Marca:\\t\\t {self.marca} \\n\" \\\n",
    "                   f\"Categoria:\\t {self.categoria}\\n\""
   ]
  },
  {
   "cell_type": "code",
   "execution_count": 7,
   "metadata": {},
   "outputs": [],
   "source": [
    "harina = Alimento(10001, \"Harina de Maíz\", 0.9, \"Harina precocida (1kg)\")\n"
   ]
  },
  {
   "cell_type": "code",
   "execution_count": 8,
   "metadata": {},
   "outputs": [
    {
     "name": "stdout",
     "output_type": "stream",
     "text": [
      "Referencia:\t 10001\n",
      "Nombre:\t\t Harina de Maíz\n",
      "PVP:\t\t 0.9\n",
      "Descripción:\t Harina precocida (1kg)\n",
      "Marca:\t\t  \n",
      "Categoria:\t \n",
      "\n"
     ]
    }
   ],
   "source": [
    "print(harina)"
   ]
  },
  {
   "cell_type": "code",
   "execution_count": 9,
   "metadata": {},
   "outputs": [],
   "source": [
    "harina.marca = \"Nestlé\"\n",
    "harina.categoria = \"Cereales\""
   ]
  },
  {
   "cell_type": "code",
   "execution_count": 10,
   "metadata": {},
   "outputs": [
    {
     "name": "stdout",
     "output_type": "stream",
     "text": [
      "Referencia:\t 10001\n",
      "Nombre:\t\t Harina de Maíz\n",
      "PVP:\t\t 0.9\n",
      "Descripción:\t Harina precocida (1kg)\n",
      "Marca:\t\t Nestlé \n",
      "Categoria:\t Cereales\n",
      "\n"
     ]
    }
   ],
   "source": [
    "print(harina)"
   ]
  },
  {
   "cell_type": "code",
   "execution_count": 11,
   "metadata": {},
   "outputs": [],
   "source": [
    "class Ropa(Producto):\n",
    "    marca = \"\"\n",
    "    categoria = \"\"\n",
    "    talla = \"\"\n",
    "    \n",
    "    def __str__(self):\n",
    "            return f\"Referencia:\\t {self.ref}\\n\" \\\n",
    "                   f\"Nombre:\\t\\t {self.nombre}\\n\" \\\n",
    "                   f\"PVP:\\t\\t {self.pvp}\\n\" \\\n",
    "                   f\"Descripción:\\t {self.descripcion}\\n\" \\\n",
    "                   f\"Marca:\\t\\t {self.marca}\\n\" \\\n",
    "                   f\"Categoria:\\t {self.categoria}\\n\" \\\n",
    "                   f\"Talla:\\t\\t {self.talla}\\n\"\n"
   ]
  },
  {
   "cell_type": "code",
   "execution_count": 12,
   "metadata": {},
   "outputs": [
    {
     "name": "stdout",
     "output_type": "stream",
     "text": [
      "Referencia:\t 20001\n",
      "Nombre:\t\t Pantalón\n",
      "PVP:\t\t 4.7\n",
      "Descripción:\t Stretch Color rojo\n",
      "Marca:\t\t Levi's\n",
      "Categoria:\t Dama\n",
      "Talla:\t\t 30\n",
      "\n"
     ]
    }
   ],
   "source": [
    "pantalon= Ropa(\"20001\", \"Pantalón\", 4.7,\"Stretch Color rojo\")\n",
    "pantalon.marca=\"Levi's\"\n",
    "pantalon.categoria=\"Dama\"\n",
    "pantalon.talla=30\n",
    "print(pantalon)"
   ]
  },
  {
   "cell_type": "code",
   "execution_count": null,
   "metadata": {},
   "outputs": [],
   "source": []
  }
 ],
 "metadata": {
  "kernelspec": {
   "display_name": "Python 3",
   "language": "python",
   "name": "python3"
  },
  "language_info": {
   "codemirror_mode": {
    "name": "ipython",
    "version": 3
   },
   "file_extension": ".py",
   "mimetype": "text/x-python",
   "name": "python",
   "nbconvert_exporter": "python",
   "pygments_lexer": "ipython3",
   "version": "3.8.8"
  }
 },
 "nbformat": 4,
 "nbformat_minor": 4
}
