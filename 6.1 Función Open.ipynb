{
 "cells": [
  {
   "cell_type": "markdown",
   "metadata": {},
   "source": [
    "<font color=Green>\n",
    "    \n",
    "# **6.1 Función Open**\n",
    "\n",
    "</font>\n"
   ]
  },
  {
   "cell_type": "code",
   "execution_count": 1,
   "metadata": {},
   "outputs": [],
   "source": [
    "with open(r'C:\\Users\\Carlos Loaeza\\Desktop\\output.txt', 'w') as f:\n",
    "    f.write('Escritura en ficheros')\n",
    "    f.write(' \\n Otra línea ')\n",
    "    f.write('Y misma línea')"
   ]
  },
  {
   "cell_type": "code",
   "execution_count": 2,
   "metadata": {},
   "outputs": [
    {
     "name": "stdout",
     "output_type": "stream",
     "text": [
      "Escritura en ficheros \n",
      " Otra línea Y misma línea\n"
     ]
    }
   ],
   "source": [
    "with open(r'C:\\Users\\Carlos Loaeza\\Desktop\\output.txt', 'r') as f:\n",
    "    print(f.read())"
   ]
  },
  {
   "cell_type": "code",
   "execution_count": 3,
   "metadata": {
    "scrolled": true
   },
   "outputs": [
    {
     "name": "stdout",
     "output_type": "stream",
     "text": [
      "['Escritura en ficheros \\n', ' Otra línea Y misma línea']\n"
     ]
    }
   ],
   "source": [
    "with open(r'C:\\Users\\Carlos Loaeza\\Desktop\\output.txt', 'r') as f:\n",
    "    data = f.readlines()\n",
    "    print(data)"
   ]
  },
  {
   "cell_type": "code",
   "execution_count": 4,
   "metadata": {},
   "outputs": [
    {
     "name": "stdout",
     "output_type": "stream",
     "text": [
      "Escritura en ficheros \n",
      "\n",
      " Otra línea Y misma línea\n"
     ]
    }
   ],
   "source": [
    "with open(r'C:\\Users\\Carlos Loaeza\\Desktop\\output.txt', 'r') as f:\n",
    "    for linea in f: \n",
    "        print(linea)"
   ]
  },
  {
   "cell_type": "code",
   "execution_count": 5,
   "metadata": {},
   "outputs": [
    {
     "name": "stdout",
     "output_type": "stream",
     "text": [
      "['Escritura', 'en', 'ficheros'] <class 'list'>\n",
      "['Otra', 'línea', 'Y', 'misma', 'línea'] <class 'list'>\n"
     ]
    }
   ],
   "source": [
    "with open(r'C:\\Users\\Carlos Loaeza\\Desktop\\output.txt', 'r') as f:\n",
    "    for linea in f:\n",
    "        palabras = linea.split()\n",
    "        print(palabras, type(palabras))"
   ]
  },
  {
   "cell_type": "code",
   "execution_count": 6,
   "metadata": {},
   "outputs": [
    {
     "name": "stdout",
     "output_type": "stream",
     "text": [
      "['Escritura', 'en', 'ficheros', 'Otra', 'línea', 'Y', 'misma', 'línea'] <class 'list'>\n"
     ]
    }
   ],
   "source": [
    "palabras = list()\n",
    "with open(r'C:\\Users\\Carlos Loaeza\\Desktop\\output.txt', 'r') as f:\n",
    "    for linea in f:\n",
    "        term_1 = linea.split()\n",
    "        for t in term_1:\n",
    "            palabras.append(t)\n",
    "    print(palabras, type(palabras))"
   ]
  },
  {
   "cell_type": "code",
   "execution_count": null,
   "metadata": {},
   "outputs": [],
   "source": []
  }
 ],
 "metadata": {
  "kernelspec": {
   "display_name": "Python 3",
   "language": "python",
   "name": "python3"
  },
  "language_info": {
   "codemirror_mode": {
    "name": "ipython",
    "version": 3
   },
   "file_extension": ".py",
   "mimetype": "text/x-python",
   "name": "python",
   "nbconvert_exporter": "python",
   "pygments_lexer": "ipython3",
   "version": "3.8.8"
  }
 },
 "nbformat": 4,
 "nbformat_minor": 4
}
